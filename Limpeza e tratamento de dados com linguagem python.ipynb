{
 "cells": [
  {
   "cell_type": "markdown",
   "id": "89f6a6d7",
   "metadata": {},
   "source": [
    "## Importando a biblioteca pandas"
   ]
  },
  {
   "cell_type": "code",
   "execution_count": 1,
   "id": "ffccd7c8",
   "metadata": {},
   "outputs": [],
   "source": [
    "!pip install -q pandas==1.5.3 --user"
   ]
  },
  {
   "cell_type": "code",
   "execution_count": 2,
   "id": "bb86cfbd",
   "metadata": {},
   "outputs": [],
   "source": [
    "import pandas as pd"
   ]
  },
  {
   "cell_type": "code",
   "execution_count": 3,
   "id": "85bbb030",
   "metadata": {},
   "outputs": [
    {
     "data": {
      "text/plain": [
       "'1.5.3'"
      ]
     },
     "execution_count": 3,
     "metadata": {},
     "output_type": "execute_result"
    }
   ],
   "source": [
    "pd.__version__"
   ]
  },
  {
   "cell_type": "markdown",
   "id": "394f2dc7",
   "metadata": {},
   "source": [
    "## Abrindo o arquivo csv"
   ]
  },
  {
   "cell_type": "code",
   "execution_count": 4,
   "id": "f41fe880",
   "metadata": {},
   "outputs": [],
   "source": [
    "usinas_df = pd.read_csv(\"usina_termeletrica_tipo.csv\")"
   ]
  },
  {
   "cell_type": "code",
   "execution_count": 5,
   "id": "feabd61e",
   "metadata": {
    "scrolled": true
   },
   "outputs": [
    {
     "data": {
      "text/html": [
       "<div>\n",
       "<style scoped>\n",
       "    .dataframe tbody tr th:only-of-type {\n",
       "        vertical-align: middle;\n",
       "    }\n",
       "\n",
       "    .dataframe tbody tr th {\n",
       "        vertical-align: top;\n",
       "    }\n",
       "\n",
       "    .dataframe thead th {\n",
       "        text-align: right;\n",
       "    }\n",
       "</style>\n",
       "<table border=\"1\" class=\"dataframe\">\n",
       "  <thead>\n",
       "    <tr style=\"text-align: right;\">\n",
       "      <th></th>\n",
       "      <th>DatGeracaoConjuntoDados</th>\n",
       "      <th>DscOrigem</th>\n",
       "      <th>NomTipoUsina</th>\n",
       "      <th>NomSubTipoUsina</th>\n",
       "      <th>QtdUsinaTermeletrica</th>\n",
       "      <th>MdaPotenciaInstaladaKW</th>\n",
       "      <th>MesReferencia</th>\n",
       "      <th>AnoReferencia</th>\n",
       "    </tr>\n",
       "  </thead>\n",
       "  <tbody>\n",
       "    <tr>\n",
       "      <th>0</th>\n",
       "      <td>2024-12-31</td>\n",
       "      <td>Biomassa</td>\n",
       "      <td>Agroindustriais</td>\n",
       "      <td>Bagaço de Cana de Açúcar</td>\n",
       "      <td>359</td>\n",
       "      <td>8125583.7</td>\n",
       "      <td>12</td>\n",
       "      <td>2012</td>\n",
       "    </tr>\n",
       "    <tr>\n",
       "      <th>1</th>\n",
       "      <td>2024-12-31</td>\n",
       "      <td>Biomassa</td>\n",
       "      <td>Agroindustriais</td>\n",
       "      <td>Bagaço de Cana de Açúcar</td>\n",
       "      <td>381</td>\n",
       "      <td>9358566.0</td>\n",
       "      <td>12</td>\n",
       "      <td>2013</td>\n",
       "    </tr>\n",
       "    <tr>\n",
       "      <th>2</th>\n",
       "      <td>2024-12-31</td>\n",
       "      <td>Biomassa</td>\n",
       "      <td>Agroindustriais</td>\n",
       "      <td>Bagaço de Cana de Açúcar</td>\n",
       "      <td>387</td>\n",
       "      <td>9880703.0</td>\n",
       "      <td>12</td>\n",
       "      <td>2014</td>\n",
       "    </tr>\n",
       "    <tr>\n",
       "      <th>3</th>\n",
       "      <td>2024-12-31</td>\n",
       "      <td>Biomassa</td>\n",
       "      <td>Agroindustriais</td>\n",
       "      <td>Bagaço de Cana de Açúcar</td>\n",
       "      <td>394</td>\n",
       "      <td>10531820.2</td>\n",
       "      <td>12</td>\n",
       "      <td>2015</td>\n",
       "    </tr>\n",
       "    <tr>\n",
       "      <th>4</th>\n",
       "      <td>2024-12-31</td>\n",
       "      <td>Biomassa</td>\n",
       "      <td>Agroindustriais</td>\n",
       "      <td>Bagaço de Cana de Açúcar</td>\n",
       "      <td>398</td>\n",
       "      <td>10897104.2</td>\n",
       "      <td>12</td>\n",
       "      <td>2016</td>\n",
       "    </tr>\n",
       "  </tbody>\n",
       "</table>\n",
       "</div>"
      ],
      "text/plain": [
       "  DatGeracaoConjuntoDados DscOrigem     NomTipoUsina  \\\n",
       "0              2024-12-31  Biomassa  Agroindustriais   \n",
       "1              2024-12-31  Biomassa  Agroindustriais   \n",
       "2              2024-12-31  Biomassa  Agroindustriais   \n",
       "3              2024-12-31  Biomassa  Agroindustriais   \n",
       "4              2024-12-31  Biomassa  Agroindustriais   \n",
       "\n",
       "            NomSubTipoUsina  QtdUsinaTermeletrica  MdaPotenciaInstaladaKW  \\\n",
       "0  Bagaço de Cana de Açúcar                   359               8125583.7   \n",
       "1  Bagaço de Cana de Açúcar                   381               9358566.0   \n",
       "2  Bagaço de Cana de Açúcar                   387               9880703.0   \n",
       "3  Bagaço de Cana de Açúcar                   394              10531820.2   \n",
       "4  Bagaço de Cana de Açúcar                   398              10897104.2   \n",
       "\n",
       "   MesReferencia  AnoReferencia  \n",
       "0             12           2012  \n",
       "1             12           2013  \n",
       "2             12           2014  \n",
       "3             12           2015  \n",
       "4             12           2016  "
      ]
     },
     "execution_count": 5,
     "metadata": {},
     "output_type": "execute_result"
    }
   ],
   "source": [
    "usinas_df.head()"
   ]
  },
  {
   "cell_type": "markdown",
   "id": "67252739",
   "metadata": {},
   "source": [
    "## Exploração do arquivo"
   ]
  },
  {
   "cell_type": "code",
   "execution_count": 6,
   "id": "e0877689",
   "metadata": {},
   "outputs": [
    {
     "data": {
      "text/plain": [
       "DatGeracaoConjuntoDados     object\n",
       "DscOrigem                   object\n",
       "NomTipoUsina                object\n",
       "NomSubTipoUsina             object\n",
       "QtdUsinaTermeletrica         int64\n",
       "MdaPotenciaInstaladaKW     float64\n",
       "MesReferencia                int64\n",
       "AnoReferencia                int64\n",
       "dtype: object"
      ]
     },
     "execution_count": 6,
     "metadata": {},
     "output_type": "execute_result"
    }
   ],
   "source": [
    "# Tipo das variáveis em cada coluna\n",
    "usinas_df.dtypes"
   ]
  },
  {
   "cell_type": "code",
   "execution_count": 7,
   "id": "ec8e545a",
   "metadata": {},
   "outputs": [
    {
     "data": {
      "text/plain": [
       "Index(['DatGeracaoConjuntoDados', 'DscOrigem', 'NomTipoUsina',\n",
       "       'NomSubTipoUsina', 'QtdUsinaTermeletrica', 'MdaPotenciaInstaladaKW',\n",
       "       'MesReferencia', 'AnoReferencia'],\n",
       "      dtype='object')"
      ]
     },
     "execution_count": 7,
     "metadata": {},
     "output_type": "execute_result"
    }
   ],
   "source": [
    "# Nome de cada coluna\n",
    "usinas_df.columns"
   ]
  },
  {
   "cell_type": "code",
   "execution_count": 8,
   "id": "ae1f6ff1",
   "metadata": {},
   "outputs": [
    {
     "data": {
      "text/plain": [
       "DatGeracaoConjuntoDados    0\n",
       "DscOrigem                  0\n",
       "NomTipoUsina               0\n",
       "NomSubTipoUsina            0\n",
       "QtdUsinaTermeletrica       0\n",
       "MdaPotenciaInstaladaKW     0\n",
       "MesReferencia              0\n",
       "AnoReferencia              0\n",
       "dtype: int64"
      ]
     },
     "execution_count": 8,
     "metadata": {},
     "output_type": "execute_result"
    }
   ],
   "source": [
    "# Valores vazios\n",
    "usinas_df.isna().sum()"
   ]
  },
  {
   "cell_type": "code",
   "execution_count": 9,
   "id": "7834fe7a",
   "metadata": {},
   "outputs": [
    {
     "data": {
      "text/plain": [
       "(1259, 8)"
      ]
     },
     "execution_count": 9,
     "metadata": {},
     "output_type": "execute_result"
    }
   ],
   "source": [
    "# Formato\n",
    "usinas_df.shape"
   ]
  },
  {
   "cell_type": "code",
   "execution_count": 10,
   "id": "a022edfd",
   "metadata": {},
   "outputs": [
    {
     "data": {
      "text/html": [
       "<div>\n",
       "<style scoped>\n",
       "    .dataframe tbody tr th:only-of-type {\n",
       "        vertical-align: middle;\n",
       "    }\n",
       "\n",
       "    .dataframe tbody tr th {\n",
       "        vertical-align: top;\n",
       "    }\n",
       "\n",
       "    .dataframe thead th {\n",
       "        text-align: right;\n",
       "    }\n",
       "</style>\n",
       "<table border=\"1\" class=\"dataframe\">\n",
       "  <thead>\n",
       "    <tr style=\"text-align: right;\">\n",
       "      <th></th>\n",
       "      <th>DatGeracaoConjuntoDados</th>\n",
       "      <th>DscOrigem</th>\n",
       "      <th>NomTipoUsina</th>\n",
       "      <th>NomSubTipoUsina</th>\n",
       "      <th>QtdUsinaTermeletrica</th>\n",
       "      <th>MdaPotenciaInstaladaKW</th>\n",
       "      <th>MesReferencia</th>\n",
       "      <th>AnoReferencia</th>\n",
       "    </tr>\n",
       "  </thead>\n",
       "  <tbody>\n",
       "  </tbody>\n",
       "</table>\n",
       "</div>"
      ],
      "text/plain": [
       "Empty DataFrame\n",
       "Columns: [DatGeracaoConjuntoDados, DscOrigem, NomTipoUsina, NomSubTipoUsina, QtdUsinaTermeletrica, MdaPotenciaInstaladaKW, MesReferencia, AnoReferencia]\n",
       "Index: []"
      ]
     },
     "execution_count": 10,
     "metadata": {},
     "output_type": "execute_result"
    }
   ],
   "source": [
    "# Valores duplicados\n",
    "usinas_df[usinas_df.duplicated()]"
   ]
  },
  {
   "cell_type": "markdown",
   "id": "55d6e2ea",
   "metadata": {},
   "source": [
    "## Alterações"
   ]
  },
  {
   "cell_type": "code",
   "execution_count": 11,
   "id": "6a9acd19",
   "metadata": {},
   "outputs": [],
   "source": [
    "# Renomeando as colunas\n",
    "usinas_df.rename(columns = {'DatGeracaoConjuntoDados' : 'Data_Update',\n",
    "                            'DscOrigem' : 'Origem',\n",
    "                            'NomTipoUsina' : 'Segmento_Combustivel',\n",
    "                            'NomSubTipoUsina': 'Combustivel',\n",
    "                            'QtdUsinaTermeletrica' : 'Quantidade',\n",
    "                            'MdaPotenciaInstaladaKW' : 'Potencia_KW',\n",
    "                            'MesReferencia' : 'Mes',\n",
    "                            'AnoReferencia' : 'Ano'}, \n",
    "                 inplace = True)"
   ]
  },
  {
   "cell_type": "code",
   "execution_count": 12,
   "id": "9039a1ed",
   "metadata": {
    "scrolled": true
   },
   "outputs": [
    {
     "data": {
      "text/html": [
       "<div>\n",
       "<style scoped>\n",
       "    .dataframe tbody tr th:only-of-type {\n",
       "        vertical-align: middle;\n",
       "    }\n",
       "\n",
       "    .dataframe tbody tr th {\n",
       "        vertical-align: top;\n",
       "    }\n",
       "\n",
       "    .dataframe thead th {\n",
       "        text-align: right;\n",
       "    }\n",
       "</style>\n",
       "<table border=\"1\" class=\"dataframe\">\n",
       "  <thead>\n",
       "    <tr style=\"text-align: right;\">\n",
       "      <th></th>\n",
       "      <th>Data_Update</th>\n",
       "      <th>Origem</th>\n",
       "      <th>Segmento_Combustivel</th>\n",
       "      <th>Combustivel</th>\n",
       "      <th>Quantidade</th>\n",
       "      <th>Potencia_KW</th>\n",
       "      <th>Mes</th>\n",
       "      <th>Ano</th>\n",
       "    </tr>\n",
       "  </thead>\n",
       "  <tbody>\n",
       "    <tr>\n",
       "      <th>0</th>\n",
       "      <td>2024-12-31</td>\n",
       "      <td>Biomassa</td>\n",
       "      <td>Agroindustriais</td>\n",
       "      <td>Bagaço de Cana de Açúcar</td>\n",
       "      <td>359</td>\n",
       "      <td>8125583.7</td>\n",
       "      <td>12</td>\n",
       "      <td>2012</td>\n",
       "    </tr>\n",
       "  </tbody>\n",
       "</table>\n",
       "</div>"
      ],
      "text/plain": [
       "  Data_Update    Origem Segmento_Combustivel               Combustivel  \\\n",
       "0  2024-12-31  Biomassa      Agroindustriais  Bagaço de Cana de Açúcar   \n",
       "\n",
       "   Quantidade  Potencia_KW  Mes   Ano  \n",
       "0         359    8125583.7   12  2012  "
      ]
     },
     "execution_count": 12,
     "metadata": {},
     "output_type": "execute_result"
    }
   ],
   "source": [
    "usinas_df.head(1)"
   ]
  },
  {
   "cell_type": "code",
   "execution_count": 13,
   "id": "6f2c97ea",
   "metadata": {},
   "outputs": [],
   "source": [
    "import datetime as dt"
   ]
  },
  {
   "cell_type": "code",
   "execution_count": 14,
   "id": "88b85060",
   "metadata": {},
   "outputs": [],
   "source": [
    "# Alterando o tipo da coluna para data\n",
    "usinas_df['Data_Update'] = pd.to_datetime(usinas_df['Data_Update'], format= '%Y-%m-%d')"
   ]
  },
  {
   "cell_type": "code",
   "execution_count": 15,
   "id": "be0769b1",
   "metadata": {},
   "outputs": [
    {
     "data": {
      "text/plain": [
       "Data_Update             datetime64[ns]\n",
       "Origem                          object\n",
       "Segmento_Combustivel            object\n",
       "Combustivel                     object\n",
       "Quantidade                       int64\n",
       "Potencia_KW                    float64\n",
       "Mes                              int64\n",
       "Ano                              int64\n",
       "dtype: object"
      ]
     },
     "execution_count": 15,
     "metadata": {},
     "output_type": "execute_result"
    }
   ],
   "source": [
    "usinas_df.dtypes"
   ]
  },
  {
   "cell_type": "code",
   "execution_count": 16,
   "id": "dbeb1fd3",
   "metadata": {},
   "outputs": [
    {
     "name": "stdout",
     "output_type": "stream",
     "text": [
      "['2024-12-31T00:00:00.000000000']\n",
      "['Biomassa' 'Fossil' 'Fóssil']\n",
      "['Agroindustriais' 'Biocombustíveis líquidos' 'Biocombustiveis Liquidos'\n",
      " 'Carvao mineral' 'Floresta' 'Residuos animais' 'Resíduos animais'\n",
      " 'Residuos solidos urbanos' 'Resíduos sólidos urbanos' 'Carvão mineral'\n",
      " 'Gas Natural' 'Gás natural' 'Outros fosseis' 'Outros Fósseis' 'Petroleo'\n",
      " 'Petróleo']\n",
      "['Bagaço de Cana de Açúcar' 'Biogas - AGR' 'Biogás - AGR' 'Biogás-AGR'\n",
      " 'Capim Elefante' 'Casca de Arroz' 'Etanol' 'Oleos Vegetais'\n",
      " 'Óleos vegetais' 'Óleos Vegetais' 'Calor de Processo - CM'\n",
      " 'Carvão Mineral' 'Carvão Vegetal' 'Gás de Alto Forno - Biomassa' 'Lenha'\n",
      " 'Licor Negro' 'Resíduos Florestais' 'Biogás - RA' 'Biogás - RU'\n",
      " 'Carvão - RU' 'Gás de Alto Forno - CM' 'Calor de Processo - GN'\n",
      " 'Gás Natural' 'Calor de Processo - OF' 'Gás de Refinaria'\n",
      " 'Óleo Combustível' 'Óleo Diesel' 'Outros Energéticos de Petróleo'\n",
      " 'Gás de Alto Forno - PE' 'Resíduos Sólidos Urbanos - RU'\n",
      " 'Biogás - Floresta']\n",
      "[ 359  381  387  394  398  349  367  378  399  353  370  391  392  358\n",
      "  374  384  390  396   19   23    2   18    3   20   22    9   10   12\n",
      "    8   11    1   13    7    5    0   14   17   16   15   40   45   46\n",
      "   49   50   38   44   47   51   41   48   52   39  105  113  121  145\n",
      "  155  109  116  135  147  159  106  110  115  138  151  117  141   37\n",
      "   31    6   34   33   43  964 1112 1180 2103 2169  914  998 1118 1563\n",
      " 2127 2166  928 1068 1171 1974 2135  942 1086 1177 2069 2153  397  162\n",
      "   69 2115  400    4   55  166   75 2168  161   72  401  165   78 2157\n",
      "  404   56   77 2148  406  167   76  407   58   21  168  405 2163  164\n",
      " 2174   60 2189 2193 2198  409   74 2204  410  163   73 2215  411   62\n",
      "   68 2224  412   63 2228  413   24 2226   65 2248  415   70 2245  419\n",
      "   26  173 2234  420  180 2131  421  178 2116  422  181 2123  423 2128\n",
      "   42 2125 2113  424 2114  427  179]\n",
      "[8.12558370e+06 9.35856600e+06 9.88070300e+06 1.05318202e+07\n",
      " 1.08971042e+07 7.27158770e+06 8.53261170e+06 9.33942570e+06\n",
      " 9.93355020e+06 1.05944600e+07 1.09099202e+07 7.61828770e+06\n",
      " 8.92691170e+06 9.39007100e+06 1.02959502e+07 1.06617602e+07\n",
      " 8.02764400e+06 9.15493570e+06 9.77807100e+06 1.04364202e+07\n",
      " 1.07717602e+07 7.90000000e+04 7.96260000e+04 1.72200000e+03\n",
      " 7.73080000e+04 7.42980000e+04 8.06590000e+04 7.43880000e+04\n",
      " 8.48570000e+04 1.82200000e+03 7.96080000e+04 7.95940000e+04\n",
      " 3.17000000e+04 6.57000000e+04 3.64330000e+04 3.75330000e+04\n",
      " 4.53330000e+04 3.26080000e+04 3.95330000e+04 3.76330000e+04\n",
      " 3.20000000e+02 4.35040000e+03 1.91104000e+04 1.91100000e+04\n",
      " 4.03040000e+03 2.44000000e+04 3.38946500e+06 2.52000000e+04\n",
      " 5.14000000e+04 5.13970000e+04 5.40970000e+04 3.50000000e+04\n",
      " 5.49000000e+04 0.00000000e+00 1.07865000e+05 1.11865050e+05\n",
      " 3.32265050e+05 1.09865000e+05 1.14265050e+05 9.28650000e+04\n",
      " 1.46500000e+04 1.23564300e+06 1.56800400e+06 1.78510200e+06\n",
      " 1.97813600e+06 2.26113600e+06 1.24519800e+06 1.24622200e+06\n",
      " 1.53018200e+06 1.30418200e+06 1.65758200e+06 1.88564900e+06\n",
      " 1.93113600e+06 1.41718200e+06 1.78502200e+06 3.22335000e+05\n",
      " 3.67735000e+05 3.57725000e+05 3.81925000e+05 3.86525000e+05\n",
      " 3.19635000e+05 3.65935000e+05 3.58925000e+05 3.97925000e+05\n",
      " 3.86100000e+05 3.54535000e+05 3.70935000e+05 3.61925000e+05\n",
      " 4.01025000e+05 3.21135000e+05 3.40935000e+05 3.89525000e+05\n",
      " 1.36100000e+03 1.92400000e+03 2.09920000e+03 2.08100000e+03\n",
      " 1.80400000e+03 1.16400000e+03 6.69710000e+04 7.51510000e+04\n",
      " 1.14680000e+05 6.23170000e+04 8.36990000e+04 7.08730000e+04\n",
      " 1.13246000e+05 2.70000000e+03 2.30419100e+06 1.94405400e+06\n",
      " 2.66432800e+06 3.02446500e+06 3.04555000e+05 3.08555000e+05\n",
      " 1.79290000e+05 1.98290000e+05 1.99130000e+05 3.30555000e+05\n",
      " 2.00290000e+05 8.75020000e+05 8.99520000e+05 4.00000000e+04\n",
      " 9.28120000e+05 1.14154928e+07 1.21701858e+07 1.25499960e+07\n",
      " 1.23876817e+07 1.29643855e+07 1.14297028e+07 1.20008298e+07\n",
      " 1.25345208e+07 1.28526500e+07 1.23876820e+07 1.29686892e+07\n",
      " 1.15618128e+07 1.19363488e+07 1.25336160e+07 1.28532613e+07\n",
      " 1.29963569e+07 1.15500130e+07 1.25410000e+07 1.28643569e+07\n",
      " 1.29780185e+07 3.56191000e+05 3.65863000e+05 1.49300000e+05\n",
      " 1.47300000e+05 4.02008000e+05 3.52788000e+05 2.72563000e+05\n",
      " 4.05411000e+05 2.21788000e+05 3.54708000e+05 3.41600000e+05\n",
      " 2.53800000e+05 3.39960000e+05 3.05000000e+05 2.78300000e+05\n",
      " 2.95560000e+05 3.15560000e+05 3.28000000e+05 3.79451100e+06\n",
      " 4.02261300e+06 4.08397300e+06 4.53709535e+06 4.05677300e+06\n",
      " 3.80531100e+06 4.11964700e+06 4.08361300e+06 3.93515147e+06\n",
      " 4.14135300e+06 4.05684700e+06 3.83764700e+06 4.48171329e+06\n",
      " 4.05597300e+06 3.81782300e+06 4.51641055e+06 3.42106363e+06\n",
      " 3.65715800e+06 3.58358500e+06 4.80228522e+06 3.22787472e+06\n",
      " 3.46697443e+06 3.52732844e+06 4.09055300e+06 4.57481500e+06\n",
      " 4.80259954e+06 3.23154692e+06 3.49059083e+06 3.57195400e+06\n",
      " 4.09135300e+06 4.61469397e+06 3.39482900e+06 3.50970227e+06\n",
      " 3.59449800e+06 4.69244357e+06 9.25208000e+05 9.37928000e+05\n",
      " 9.55928000e+05 9.80328000e+05 1.10208102e+07 4.11970000e+04\n",
      " 1.17532000e+05 3.31746500e+06 3.90130000e+05 1.29777292e+07\n",
      " 4.05796898e+06 4.69215934e+06 1.11579352e+07 4.31970000e+04\n",
      " 2.39000000e+04 2.54261600e+06 4.25197000e+05 4.48120000e+03\n",
      " 1.28850600e+05 2.84000000e+04 3.32374000e+06 3.75330000e+05\n",
      " 1.29803112e+07 4.05588498e+06 4.77148635e+06 1.02832800e+06\n",
      " 1.10970352e+07 1.56500000e+04 2.27303600e+06 4.04270000e+05\n",
      " 4.43920000e+03 1.22249600e+05 3.71630000e+05 1.29634272e+07\n",
      " 4.05575098e+06 4.67692809e+06 1.11807352e+07 9.48000000e+02\n",
      " 1.29536992e+07 1.20000000e+03 4.05596698e+06 4.72099539e+06\n",
      " 1.12649920e+07 7.95100000e+03 1.27705000e+05 3.60150000e+04\n",
      " 4.27697000e+05 1.33128000e+05 5.25000000e+03 3.65690000e+05\n",
      " 1.29632780e+07 3.15120000e+05 4.05146700e+06 4.39795700e+06\n",
      " 1.13452472e+07 1.27705050e+05 2.85774000e+06 1.31031388e+07\n",
      " 3.58490298e+06 4.18261027e+06 1.13524022e+07 5.33330000e+04\n",
      " 4.81970000e+04 3.67150000e+04 4.34117000e+05 1.37734600e+05\n",
      " 1.33294188e+07 1.57950000e+05 3.19530000e+05 3.34417938e+06\n",
      " 4.18405127e+06 1.02332800e+06 1.14048022e+07 1.54666600e+05\n",
      " 1.33144188e+07 3.34404738e+06 4.14505027e+06 1.14008222e+07\n",
      " 3.99150000e+04 2.53071900e+06 1.64320600e+05 4.27800000e+03\n",
      " 3.20274000e+06 1.34045328e+07 1.65970000e+05 3.31905538e+06\n",
      " 4.22106887e+06 1.14479022e+07 5.00000000e+03 8.22150000e+04\n",
      " 4.47717000e+05 1.68598600e+05 8.25000000e+03 1.33527328e+07\n",
      " 3.30159538e+06 4.35315797e+06 1.14897022e+07 4.61317000e+05\n",
      " 1.72786600e+05 1.45744228e+07 4.44033497e+06 1.16277022e+07\n",
      " 1.68508600e+05 1.49030368e+07 4.44110197e+06 1.16009022e+07\n",
      " 1.98910000e+04 1.04575000e+05 4.73317000e+05 3.51690000e+05\n",
      " 1.49128408e+07 3.35159538e+06 4.44034327e+06 1.16910222e+07\n",
      " 2.58610000e+04 3.81970000e+04 4.74120000e+03 1.69934600e+05\n",
      " 1.49056644e+07 3.24159538e+06 4.43939817e+06 1.01060800e+06\n",
      " 1.16717072e+07 2.88440000e+04 1.73311600e+05 1.47856644e+07\n",
      " 3.11059538e+06 4.48697017e+06 1.16701922e+07 2.53065900e+06\n",
      " 5.53317000e+05 1.71885600e+05 1.67580000e+04 1.47816344e+07\n",
      " 3.11052898e+06 4.53463677e+06 1.17737632e+07 3.18670000e+04\n",
      " 6.03010000e+05 1.80441600e+05 2.42880000e+04 1.62213604e+07\n",
      " 4.60434877e+06 9.98108000e+05 1.16576462e+07 1.37075000e+05\n",
      " 2.93838600e+06 1.86144800e+05 1.96080000e+04 1.61889394e+07\n",
      " 3.10315048e+06 4.54926377e+06 9.91108000e+05 1.15280462e+07\n",
      " 5.63040000e+03 3.07318600e+06 6.09710000e+05 4.89120000e+03\n",
      " 1.86855600e+05 2.06080000e+04 1.63379044e+07 3.10231728e+06\n",
      " 4.55745359e+06 9.85108000e+05 1.15780462e+07 1.63075000e+05\n",
      " 3.27588600e+06 6.52210000e+05 2.34130000e+04 1.63264264e+07\n",
      " 4.19530000e+05 3.00230728e+06 4.45539659e+06 1.17484462e+07\n",
      " 7.17690000e+05 6.02320000e+03 1.91707600e+05 2.44130000e+04\n",
      " 1.67066029e+07 4.29394499e+06 1.18390662e+07 1.71804000e+04\n",
      " 1.65075000e+05 7.13990000e+05 1.93133600e+05 4.05320000e+05\n",
      " 1.70417414e+07 3.09730728e+06 3.97734669e+06 1.18320662e+07\n",
      " 3.26158000e+04 3.01970000e+04 1.20765050e+05 1.67827800e+05\n",
      " 6.94320000e+03 3.08574000e+06 1.70514654e+07 3.09717728e+06\n",
      " 3.95179569e+06 1.18870662e+07 1.24265050e+05 4.25747000e+05\n",
      " 1.71542514e+07 3.99755629e+06 1.19796612e+07 4.15000000e+04\n",
      " 5.68330000e+04 1.70827800e+05 7.49250000e+05 3.46790000e+05\n",
      " 1.71482734e+07 4.02150429e+06 1.19752612e+07 3.28462000e+04\n",
      " 5.94586000e+04 3.26599600e+06 7.98006000e+05 7.26320000e+03\n",
      " 1.71503934e+07 4.59670000e+05 1.19124662e+07 3.32504500e+06\n",
      " 7.98806000e+05 7.27220000e+03 1.75445924e+07 2.80002258e+06\n",
      " 3.67625329e+06 9.79108000e+05 1.19644662e+07 1.96360000e+04\n",
      " 2.37202800e+05 1.75046984e+07 3.59333329e+06 1.20660662e+07\n",
      " 7.76606000e+05 1.72917312e+07 3.59389429e+06 1.00910800e+06\n",
      " 1.21878662e+07 7.96106000e+05 7.79220000e+03 1.74045792e+07\n",
      " 3.86323429e+06]\n",
      "[12  3  6  9  5  8 11  2]\n",
      "[2012 2013 2014 2015 2016 2017 2018 2019 2020 2021 2022 2023 2024]\n"
     ]
    }
   ],
   "source": [
    "# Verificando valores iguais digitados de forma diferente\n",
    "for column in usinas_df:\n",
    "    print(usinas_df[column].unique())"
   ]
  },
  {
   "cell_type": "code",
   "execution_count": 17,
   "id": "f865e713",
   "metadata": {},
   "outputs": [],
   "source": [
    "# Uniformizando os valores nas colunas\n",
    "usinas_df['Origem'] = usinas_df['Origem'].str.replace('Fossil', 'Fóssil')\n",
    "usinas_df['Segmento_Combustivel'] = usinas_df['Segmento_Combustivel'].str.replace('Biocombustiveis Liquidos', 'Biocombustíveis líquidos')\n",
    "usinas_df['Segmento_Combustivel'] = usinas_df['Segmento_Combustivel'].str.replace('Residuos animais', 'Resíduos animais')\n",
    "usinas_df['Segmento_Combustivel'] = usinas_df['Segmento_Combustivel'].str.replace('Residuos solidos urbanos', 'Resíduos sólidos urbanos')\n",
    "usinas_df['Segmento_Combustivel'] = usinas_df['Segmento_Combustivel'].str.replace('Gas Natural', 'Gás natural')\n",
    "usinas_df['Segmento_Combustivel'] = usinas_df['Segmento_Combustivel'].str.replace('Outros fosseis', 'Outros Fósseis')\n",
    "usinas_df['Segmento_Combustivel'] = usinas_df['Segmento_Combustivel'].str.replace('Petroleo', 'Petróleo')\n",
    "usinas_df['Segmento_Combustivel'] = usinas_df['Segmento_Combustivel'].str.replace('Carvao mineral', 'Carvão mineral')\n",
    "usinas_df['Combustivel'] = usinas_df['Combustivel'].str.replace('Biogás-AGR', 'Biogás - AGR')\n",
    "usinas_df['Combustivel'] = usinas_df['Combustivel'].str.replace('Oleos Vegetais', 'Óleos Vegetais')\n",
    "usinas_df['Combustivel'] = usinas_df['Combustivel'].str.replace('Óleos vegetais', 'Óleos Vegetais')\n",
    "usinas_df.loc[(usinas_df['Segmento_Combustivel'] == 'Carvão mineral'), 'Origem'] = 'Fóssil'"
   ]
  },
  {
   "cell_type": "code",
   "execution_count": 18,
   "id": "9e489833",
   "metadata": {},
   "outputs": [
    {
     "name": "stdout",
     "output_type": "stream",
     "text": [
      "['2024-12-31T00:00:00.000000000']\n",
      "['Biomassa' 'Fóssil']\n",
      "['Agroindustriais' 'Biocombustíveis líquidos' 'Carvão mineral' 'Floresta'\n",
      " 'Resíduos animais' 'Resíduos sólidos urbanos' 'Gás natural'\n",
      " 'Outros Fósseis' 'Petróleo']\n",
      "['Bagaço de Cana de Açúcar' 'Biogas - AGR' 'Biogás - AGR' 'Capim Elefante'\n",
      " 'Casca de Arroz' 'Etanol' 'Óleos Vegetais' 'Calor de Processo - CM'\n",
      " 'Carvão Mineral' 'Carvão Vegetal' 'Gás de Alto Forno - Biomassa' 'Lenha'\n",
      " 'Licor Negro' 'Resíduos Florestais' 'Biogás - RA' 'Biogás - RU'\n",
      " 'Carvão - RU' 'Gás de Alto Forno - CM' 'Calor de Processo - GN'\n",
      " 'Gás Natural' 'Calor de Processo - OF' 'Gás de Refinaria'\n",
      " 'Óleo Combustível' 'Óleo Diesel' 'Outros Energéticos de Petróleo'\n",
      " 'Gás de Alto Forno - PE' 'Resíduos Sólidos Urbanos - RU'\n",
      " 'Biogás - Floresta']\n",
      "[ 359  381  387  394  398  349  367  378  399  353  370  391  392  358\n",
      "  374  384  390  396   19   23    2   18    3   20   22    9   10   12\n",
      "    8   11    1   13    7    5    0   14   17   16   15   40   45   46\n",
      "   49   50   38   44   47   51   41   48   52   39  105  113  121  145\n",
      "  155  109  116  135  147  159  106  110  115  138  151  117  141   37\n",
      "   31    6   34   33   43  964 1112 1180 2103 2169  914  998 1118 1563\n",
      " 2127 2166  928 1068 1171 1974 2135  942 1086 1177 2069 2153  397  162\n",
      "   69 2115  400    4   55  166   75 2168  161   72  401  165   78 2157\n",
      "  404   56   77 2148  406  167   76  407   58   21  168  405 2163  164\n",
      " 2174   60 2189 2193 2198  409   74 2204  410  163   73 2215  411   62\n",
      "   68 2224  412   63 2228  413   24 2226   65 2248  415   70 2245  419\n",
      "   26  173 2234  420  180 2131  421  178 2116  422  181 2123  423 2128\n",
      "   42 2125 2113  424 2114  427  179]\n",
      "[8.12558370e+06 9.35856600e+06 9.88070300e+06 1.05318202e+07\n",
      " 1.08971042e+07 7.27158770e+06 8.53261170e+06 9.33942570e+06\n",
      " 9.93355020e+06 1.05944600e+07 1.09099202e+07 7.61828770e+06\n",
      " 8.92691170e+06 9.39007100e+06 1.02959502e+07 1.06617602e+07\n",
      " 8.02764400e+06 9.15493570e+06 9.77807100e+06 1.04364202e+07\n",
      " 1.07717602e+07 7.90000000e+04 7.96260000e+04 1.72200000e+03\n",
      " 7.73080000e+04 7.42980000e+04 8.06590000e+04 7.43880000e+04\n",
      " 8.48570000e+04 1.82200000e+03 7.96080000e+04 7.95940000e+04\n",
      " 3.17000000e+04 6.57000000e+04 3.64330000e+04 3.75330000e+04\n",
      " 4.53330000e+04 3.26080000e+04 3.95330000e+04 3.76330000e+04\n",
      " 3.20000000e+02 4.35040000e+03 1.91104000e+04 1.91100000e+04\n",
      " 4.03040000e+03 2.44000000e+04 3.38946500e+06 2.52000000e+04\n",
      " 5.14000000e+04 5.13970000e+04 5.40970000e+04 3.50000000e+04\n",
      " 5.49000000e+04 0.00000000e+00 1.07865000e+05 1.11865050e+05\n",
      " 3.32265050e+05 1.09865000e+05 1.14265050e+05 9.28650000e+04\n",
      " 1.46500000e+04 1.23564300e+06 1.56800400e+06 1.78510200e+06\n",
      " 1.97813600e+06 2.26113600e+06 1.24519800e+06 1.24622200e+06\n",
      " 1.53018200e+06 1.30418200e+06 1.65758200e+06 1.88564900e+06\n",
      " 1.93113600e+06 1.41718200e+06 1.78502200e+06 3.22335000e+05\n",
      " 3.67735000e+05 3.57725000e+05 3.81925000e+05 3.86525000e+05\n",
      " 3.19635000e+05 3.65935000e+05 3.58925000e+05 3.97925000e+05\n",
      " 3.86100000e+05 3.54535000e+05 3.70935000e+05 3.61925000e+05\n",
      " 4.01025000e+05 3.21135000e+05 3.40935000e+05 3.89525000e+05\n",
      " 1.36100000e+03 1.92400000e+03 2.09920000e+03 2.08100000e+03\n",
      " 1.80400000e+03 1.16400000e+03 6.69710000e+04 7.51510000e+04\n",
      " 1.14680000e+05 6.23170000e+04 8.36990000e+04 7.08730000e+04\n",
      " 1.13246000e+05 2.70000000e+03 2.30419100e+06 1.94405400e+06\n",
      " 2.66432800e+06 3.02446500e+06 3.04555000e+05 3.08555000e+05\n",
      " 1.79290000e+05 1.98290000e+05 1.99130000e+05 3.30555000e+05\n",
      " 2.00290000e+05 8.75020000e+05 8.99520000e+05 4.00000000e+04\n",
      " 9.28120000e+05 1.14154928e+07 1.21701858e+07 1.25499960e+07\n",
      " 1.23876817e+07 1.29643855e+07 1.14297028e+07 1.20008298e+07\n",
      " 1.25345208e+07 1.28526500e+07 1.23876820e+07 1.29686892e+07\n",
      " 1.15618128e+07 1.19363488e+07 1.25336160e+07 1.28532613e+07\n",
      " 1.29963569e+07 1.15500130e+07 1.25410000e+07 1.28643569e+07\n",
      " 1.29780185e+07 3.56191000e+05 3.65863000e+05 1.49300000e+05\n",
      " 1.47300000e+05 4.02008000e+05 3.52788000e+05 2.72563000e+05\n",
      " 4.05411000e+05 2.21788000e+05 3.54708000e+05 3.41600000e+05\n",
      " 2.53800000e+05 3.39960000e+05 3.05000000e+05 2.78300000e+05\n",
      " 2.95560000e+05 3.15560000e+05 3.28000000e+05 3.79451100e+06\n",
      " 4.02261300e+06 4.08397300e+06 4.53709535e+06 4.05677300e+06\n",
      " 3.80531100e+06 4.11964700e+06 4.08361300e+06 3.93515147e+06\n",
      " 4.14135300e+06 4.05684700e+06 3.83764700e+06 4.48171329e+06\n",
      " 4.05597300e+06 3.81782300e+06 4.51641055e+06 3.42106363e+06\n",
      " 3.65715800e+06 3.58358500e+06 4.80228522e+06 3.22787472e+06\n",
      " 3.46697443e+06 3.52732844e+06 4.09055300e+06 4.57481500e+06\n",
      " 4.80259954e+06 3.23154692e+06 3.49059083e+06 3.57195400e+06\n",
      " 4.09135300e+06 4.61469397e+06 3.39482900e+06 3.50970227e+06\n",
      " 3.59449800e+06 4.69244357e+06 9.25208000e+05 9.37928000e+05\n",
      " 9.55928000e+05 9.80328000e+05 1.10208102e+07 4.11970000e+04\n",
      " 1.17532000e+05 3.31746500e+06 3.90130000e+05 1.29777292e+07\n",
      " 4.05796898e+06 4.69215934e+06 1.11579352e+07 4.31970000e+04\n",
      " 2.39000000e+04 2.54261600e+06 4.25197000e+05 4.48120000e+03\n",
      " 1.28850600e+05 2.84000000e+04 3.32374000e+06 3.75330000e+05\n",
      " 1.29803112e+07 4.05588498e+06 4.77148635e+06 1.02832800e+06\n",
      " 1.10970352e+07 1.56500000e+04 2.27303600e+06 4.04270000e+05\n",
      " 4.43920000e+03 1.22249600e+05 3.71630000e+05 1.29634272e+07\n",
      " 4.05575098e+06 4.67692809e+06 1.11807352e+07 9.48000000e+02\n",
      " 1.29536992e+07 1.20000000e+03 4.05596698e+06 4.72099539e+06\n",
      " 1.12649920e+07 7.95100000e+03 1.27705000e+05 3.60150000e+04\n",
      " 4.27697000e+05 1.33128000e+05 5.25000000e+03 3.65690000e+05\n",
      " 1.29632780e+07 3.15120000e+05 4.05146700e+06 4.39795700e+06\n",
      " 1.13452472e+07 1.27705050e+05 2.85774000e+06 1.31031388e+07\n",
      " 3.58490298e+06 4.18261027e+06 1.13524022e+07 5.33330000e+04\n",
      " 4.81970000e+04 3.67150000e+04 4.34117000e+05 1.37734600e+05\n",
      " 1.33294188e+07 1.57950000e+05 3.19530000e+05 3.34417938e+06\n",
      " 4.18405127e+06 1.02332800e+06 1.14048022e+07 1.54666600e+05\n",
      " 1.33144188e+07 3.34404738e+06 4.14505027e+06 1.14008222e+07\n",
      " 3.99150000e+04 2.53071900e+06 1.64320600e+05 4.27800000e+03\n",
      " 3.20274000e+06 1.34045328e+07 1.65970000e+05 3.31905538e+06\n",
      " 4.22106887e+06 1.14479022e+07 5.00000000e+03 8.22150000e+04\n",
      " 4.47717000e+05 1.68598600e+05 8.25000000e+03 1.33527328e+07\n",
      " 3.30159538e+06 4.35315797e+06 1.14897022e+07 4.61317000e+05\n",
      " 1.72786600e+05 1.45744228e+07 4.44033497e+06 1.16277022e+07\n",
      " 1.68508600e+05 1.49030368e+07 4.44110197e+06 1.16009022e+07\n",
      " 1.98910000e+04 1.04575000e+05 4.73317000e+05 3.51690000e+05\n",
      " 1.49128408e+07 3.35159538e+06 4.44034327e+06 1.16910222e+07\n",
      " 2.58610000e+04 3.81970000e+04 4.74120000e+03 1.69934600e+05\n",
      " 1.49056644e+07 3.24159538e+06 4.43939817e+06 1.01060800e+06\n",
      " 1.16717072e+07 2.88440000e+04 1.73311600e+05 1.47856644e+07\n",
      " 3.11059538e+06 4.48697017e+06 1.16701922e+07 2.53065900e+06\n",
      " 5.53317000e+05 1.71885600e+05 1.67580000e+04 1.47816344e+07\n",
      " 3.11052898e+06 4.53463677e+06 1.17737632e+07 3.18670000e+04\n",
      " 6.03010000e+05 1.80441600e+05 2.42880000e+04 1.62213604e+07\n",
      " 4.60434877e+06 9.98108000e+05 1.16576462e+07 1.37075000e+05\n",
      " 2.93838600e+06 1.86144800e+05 1.96080000e+04 1.61889394e+07\n",
      " 3.10315048e+06 4.54926377e+06 9.91108000e+05 1.15280462e+07\n",
      " 5.63040000e+03 3.07318600e+06 6.09710000e+05 4.89120000e+03\n",
      " 1.86855600e+05 2.06080000e+04 1.63379044e+07 3.10231728e+06\n",
      " 4.55745359e+06 9.85108000e+05 1.15780462e+07 1.63075000e+05\n",
      " 3.27588600e+06 6.52210000e+05 2.34130000e+04 1.63264264e+07\n",
      " 4.19530000e+05 3.00230728e+06 4.45539659e+06 1.17484462e+07\n",
      " 7.17690000e+05 6.02320000e+03 1.91707600e+05 2.44130000e+04\n",
      " 1.67066029e+07 4.29394499e+06 1.18390662e+07 1.71804000e+04\n",
      " 1.65075000e+05 7.13990000e+05 1.93133600e+05 4.05320000e+05\n",
      " 1.70417414e+07 3.09730728e+06 3.97734669e+06 1.18320662e+07\n",
      " 3.26158000e+04 3.01970000e+04 1.20765050e+05 1.67827800e+05\n",
      " 6.94320000e+03 3.08574000e+06 1.70514654e+07 3.09717728e+06\n",
      " 3.95179569e+06 1.18870662e+07 1.24265050e+05 4.25747000e+05\n",
      " 1.71542514e+07 3.99755629e+06 1.19796612e+07 4.15000000e+04\n",
      " 5.68330000e+04 1.70827800e+05 7.49250000e+05 3.46790000e+05\n",
      " 1.71482734e+07 4.02150429e+06 1.19752612e+07 3.28462000e+04\n",
      " 5.94586000e+04 3.26599600e+06 7.98006000e+05 7.26320000e+03\n",
      " 1.71503934e+07 4.59670000e+05 1.19124662e+07 3.32504500e+06\n",
      " 7.98806000e+05 7.27220000e+03 1.75445924e+07 2.80002258e+06\n",
      " 3.67625329e+06 9.79108000e+05 1.19644662e+07 1.96360000e+04\n",
      " 2.37202800e+05 1.75046984e+07 3.59333329e+06 1.20660662e+07\n",
      " 7.76606000e+05 1.72917312e+07 3.59389429e+06 1.00910800e+06\n",
      " 1.21878662e+07 7.96106000e+05 7.79220000e+03 1.74045792e+07\n",
      " 3.86323429e+06]\n",
      "[12  3  6  9  5  8 11  2]\n",
      "[2012 2013 2014 2015 2016 2017 2018 2019 2020 2021 2022 2023 2024]\n"
     ]
    }
   ],
   "source": [
    "# Conferindo\n",
    "for column in usinas_df:\n",
    "    print(usinas_df[column].unique())"
   ]
  },
  {
   "cell_type": "code",
   "execution_count": 19,
   "id": "bbf45b50",
   "metadata": {
    "scrolled": true
   },
   "outputs": [
    {
     "data": {
      "text/html": [
       "<div>\n",
       "<style scoped>\n",
       "    .dataframe tbody tr th:only-of-type {\n",
       "        vertical-align: middle;\n",
       "    }\n",
       "\n",
       "    .dataframe tbody tr th {\n",
       "        vertical-align: top;\n",
       "    }\n",
       "\n",
       "    .dataframe thead th {\n",
       "        text-align: right;\n",
       "    }\n",
       "</style>\n",
       "<table border=\"1\" class=\"dataframe\">\n",
       "  <thead>\n",
       "    <tr style=\"text-align: right;\">\n",
       "      <th></th>\n",
       "      <th>Data_Update</th>\n",
       "      <th>Origem</th>\n",
       "      <th>Segmento_Combustivel</th>\n",
       "      <th>Combustivel</th>\n",
       "      <th>Quantidade</th>\n",
       "      <th>Potencia_KW</th>\n",
       "      <th>Mes</th>\n",
       "      <th>Ano</th>\n",
       "    </tr>\n",
       "  </thead>\n",
       "  <tbody>\n",
       "    <tr>\n",
       "      <th>0</th>\n",
       "      <td>2024-12-31</td>\n",
       "      <td>Biomassa</td>\n",
       "      <td>Agroindustriais</td>\n",
       "      <td>Bagaço de Cana de Açúcar</td>\n",
       "      <td>359</td>\n",
       "      <td>8125583.7</td>\n",
       "      <td>12</td>\n",
       "      <td>2012</td>\n",
       "    </tr>\n",
       "    <tr>\n",
       "      <th>1</th>\n",
       "      <td>2024-12-31</td>\n",
       "      <td>Biomassa</td>\n",
       "      <td>Agroindustriais</td>\n",
       "      <td>Bagaço de Cana de Açúcar</td>\n",
       "      <td>381</td>\n",
       "      <td>9358566.0</td>\n",
       "      <td>12</td>\n",
       "      <td>2013</td>\n",
       "    </tr>\n",
       "    <tr>\n",
       "      <th>2</th>\n",
       "      <td>2024-12-31</td>\n",
       "      <td>Biomassa</td>\n",
       "      <td>Agroindustriais</td>\n",
       "      <td>Bagaço de Cana de Açúcar</td>\n",
       "      <td>387</td>\n",
       "      <td>9880703.0</td>\n",
       "      <td>12</td>\n",
       "      <td>2014</td>\n",
       "    </tr>\n",
       "    <tr>\n",
       "      <th>3</th>\n",
       "      <td>2024-12-31</td>\n",
       "      <td>Biomassa</td>\n",
       "      <td>Agroindustriais</td>\n",
       "      <td>Bagaço de Cana de Açúcar</td>\n",
       "      <td>394</td>\n",
       "      <td>10531820.2</td>\n",
       "      <td>12</td>\n",
       "      <td>2015</td>\n",
       "    </tr>\n",
       "    <tr>\n",
       "      <th>4</th>\n",
       "      <td>2024-12-31</td>\n",
       "      <td>Biomassa</td>\n",
       "      <td>Agroindustriais</td>\n",
       "      <td>Bagaço de Cana de Açúcar</td>\n",
       "      <td>398</td>\n",
       "      <td>10897104.2</td>\n",
       "      <td>12</td>\n",
       "      <td>2016</td>\n",
       "    </tr>\n",
       "  </tbody>\n",
       "</table>\n",
       "</div>"
      ],
      "text/plain": [
       "  Data_Update    Origem Segmento_Combustivel               Combustivel  \\\n",
       "0  2024-12-31  Biomassa      Agroindustriais  Bagaço de Cana de Açúcar   \n",
       "1  2024-12-31  Biomassa      Agroindustriais  Bagaço de Cana de Açúcar   \n",
       "2  2024-12-31  Biomassa      Agroindustriais  Bagaço de Cana de Açúcar   \n",
       "3  2024-12-31  Biomassa      Agroindustriais  Bagaço de Cana de Açúcar   \n",
       "4  2024-12-31  Biomassa      Agroindustriais  Bagaço de Cana de Açúcar   \n",
       "\n",
       "   Quantidade  Potencia_KW  Mes   Ano  \n",
       "0         359    8125583.7   12  2012  \n",
       "1         381    9358566.0   12  2013  \n",
       "2         387    9880703.0   12  2014  \n",
       "3         394   10531820.2   12  2015  \n",
       "4         398   10897104.2   12  2016  "
      ]
     },
     "execution_count": 19,
     "metadata": {},
     "output_type": "execute_result"
    }
   ],
   "source": [
    "# Versão final\n",
    "usinas_df.head()"
   ]
  },
  {
   "cell_type": "code",
   "execution_count": 20,
   "id": "8665d496",
   "metadata": {},
   "outputs": [],
   "source": [
    "# Salvando o arquivo csv no disco sem o index\n",
    "usinas_df.to_csv(r'C:\\usina_termeletrica_tipo2.csv', index = False)"
   ]
  },
  {
   "cell_type": "code",
   "execution_count": null,
   "id": "b68d8be4",
   "metadata": {},
   "outputs": [],
   "source": []
  }
 ],
 "metadata": {
  "kernelspec": {
   "display_name": "Python 3 (ipykernel)",
   "language": "python",
   "name": "python3"
  },
  "language_info": {
   "codemirror_mode": {
    "name": "ipython",
    "version": 3
   },
   "file_extension": ".py",
   "mimetype": "text/x-python",
   "name": "python",
   "nbconvert_exporter": "python",
   "pygments_lexer": "ipython3",
   "version": "3.9.13"
  }
 },
 "nbformat": 4,
 "nbformat_minor": 5
}
